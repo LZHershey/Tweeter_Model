{
 "cells": [
  {
   "cell_type": "code",
   "execution_count": 1,
   "id": "026a3790-a457-4d83-8ac5-41c0d4e620d1",
   "metadata": {},
   "outputs": [],
   "source": [
    "import os\n",
    "import cv2\n",
    "import time\n",
    "import numpy as np\n",
    "\n",
    "import torch\n",
    "import torch.nn as nn\n",
    "import torch.nn.functional as F\n",
    "\n",
    "from torch.utils.data import DataLoader, Dataset\n",
    "from torch.utils.data import RandomSampler\n",
    "\n",
    "import torchvision.transforms as T\n",
    "import torchvision.models as models\n",
    "from torchvision.utils import make_grid\n",
    "from torchvision.datasets import ImageFolder\n",
    "\n",
    "from matplotlib import pyplot as plt\n",
    " "
   ]
  },
  {
   "cell_type": "code",
   "execution_count": 4,
   "id": "d8b7310c-2d47-4378-9d4f-7aa5f7ac1a2b",
   "metadata": {},
   "outputs": [],
   "source": [
    "# Exploring Dataset\n",
    "DIR_TRAIN = \"input/train\"\n",
    "\n",
    "classes = os.listdir('.')\n",
    "# print(\"Total Classes: \", len(classes))\n",
    "\n",
    "# # Counting total train, valid & test images\n",
    "\n",
    "# train_count = 0\n",
    "# valid_count = 0\n",
    "# test_count = 0\n",
    "# for _class in classes:\n",
    "#     train_count += len(os.listdir(DIR_TRAIN + _class))\n",
    "#     valid_count += len(os.listdir(DIR_VALID + _class))\n",
    "#     test_count += len(os.listdir(DIR_TEST + _class))\n",
    "\n",
    "# print(\"Total train images: \", train_count)\n",
    "# print(\"Total valid images: \", valid_count)\n",
    "# print(\"Total test images: \", test_count)"
   ]
  },
  {
   "cell_type": "code",
   "execution_count": 5,
   "id": "e98032ee-2f6a-4b47-85d0-4f7d9e75a161",
   "metadata": {},
   "outputs": [
    {
     "data": {
      "text/plain": [
       "['valid',\n",
       " 'birds.csv',\n",
       " 'my_csv-2-17-2022-1-17-48.csv',\n",
       " 'test',\n",
       " 'images to test',\n",
       " 'EfficientNetB4-BIRDS-0.99.h5',\n",
       " 'birds latin names.csv',\n",
       " 'train',\n",
       " '.ipynb_checkpoints',\n",
       " 'class_dict.csv']"
      ]
     },
     "execution_count": 5,
     "metadata": {},
     "output_type": "execute_result"
    }
   ],
   "source": [
    "classes"
   ]
  },
  {
   "cell_type": "code",
   "execution_count": null,
   "id": "5e8d9ab3-cf4c-4bd9-96d1-31bb3e9917ef",
   "metadata": {},
   "outputs": [],
   "source": []
  }
 ],
 "metadata": {
  "kernelspec": {
   "display_name": "Python 3 (ipykernel)",
   "language": "python",
   "name": "python3"
  },
  "language_info": {
   "codemirror_mode": {
    "name": "ipython",
    "version": 3
   },
   "file_extension": ".py",
   "mimetype": "text/x-python",
   "name": "python",
   "nbconvert_exporter": "python",
   "pygments_lexer": "ipython3",
   "version": "3.8.13"
  }
 },
 "nbformat": 4,
 "nbformat_minor": 5
}
